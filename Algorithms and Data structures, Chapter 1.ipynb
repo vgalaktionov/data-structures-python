{
 "cells": [
  {
   "cell_type": "markdown",
   "metadata": {},
   "source": [
    "### 1.4.3 Control Structures\n",
    "\n",
    "##### Self check\n",
    "\n",
    "Modify the given code so that the final list only contains a single copy of each letter."
   ]
  },
  {
   "cell_type": "code",
   "execution_count": 40,
   "metadata": {
    "collapsed": false
   },
   "outputs": [
    {
     "name": "stdout",
     "output_type": "stream",
     "text": [
      "['c', 'a', 't', 'd', 'o', 'g', 'r', 'b', 'i']\n"
     ]
    }
   ],
   "source": [
    "word_list = ['cat','dog','rabbit']\n",
    "letter_list = [ ]\n",
    "for word in word_list:\n",
    "    for letter in word:\n",
    "        if letter not in letter_list:\n",
    "            letter_list.append(letter)\n",
    "print(letter_list)"
   ]
  },
  {
   "cell_type": "markdown",
   "metadata": {},
   "source": [
    "Redo the given code using list comprehensions. For an extra challenge, see if you can\n",
    "figure out how to remove the duplicates."
   ]
  },
  {
   "cell_type": "code",
   "execution_count": 41,
   "metadata": {
    "collapsed": false
   },
   "outputs": [
    {
     "name": "stdout",
     "output_type": "stream",
     "text": [
      "['i', 'b', 'a', 'd', 'o', 't', 'c', 'g', 'r']\n"
     ]
    }
   ],
   "source": [
    "word_list = ['cat','dog','rabbit']\n",
    "letter_list = list({letter for word in word_list for letter in word})\n",
    "print(letter_list)"
   ]
  },
  {
   "cell_type": "markdown",
   "metadata": {},
   "source": [
    "### 1.4.5 Defining Functions\n",
    "\n",
    "##### Self check\n",
    "\n",
    "Here is a self check that really covers everything so far. You may have heard of the infinite\n",
    "monkey theorem? The theorem states that a monkey hitting keys at random on a typewriter\n",
    "keyboard for an infinite amount of time will almost surely type a given text, such as the complete\n",
    "works of William Shakespeare. Well, suppose we replace a monkey with a Python function.\n",
    "How long do you think it would take for a Python function to generate just one sentence\n",
    "of Shakespeare? The sentence we’ll shoot for is: “methinks it is like a weasel”\n",
    "\n",
    "\n",
    "You are not going to want to run this one in the browser, so fire up your favorite Python IDE. The\n",
    "way we will simulate this is to write a function that generates a string that is 27 characters long\n",
    "by choosing random letters from the 26 letters in the alphabet plus the space. We will write\n",
    "another function that will score each generated string by comparing the randomly generated\n",
    "string to the goal.\n",
    "\n",
    "\n",
    "A third function will repeatedly call generate and score, then if 100% of the letters are correct\n",
    "we are done. If the letters are not correct then we will generate a whole new string. To make\n",
    "it easier to follow your program’s progress this third function should print out the best string\n",
    "generated so far and its score every 1000 tries."
   ]
  },
  {
   "cell_type": "code",
   "execution_count": 76,
   "metadata": {
    "collapsed": false
   },
   "outputs": [],
   "source": [
    "import random\n",
    "\n",
    "target_string = 'methinks it is like a weasel'\n",
    "alphabet = 'abcdefghijklmnopqrstuvwxyz '\n",
    "\n",
    "\n",
    "def monkey_typewriter():\n",
    "    sentence = ''\n",
    "    for i in range(0, 28):\n",
    "        sentence += alphabet[random.randint(0, 26)]\n",
    "    return sentence\n",
    "\n",
    "\n",
    "def scorer(sentence):\n",
    "    target_string = 'methinks it is like a weasel'\n",
    "    score = 0\n",
    "    for index, letter in enumerate(sentence):\n",
    "        if letter == target_string[index]:\n",
    "            score += 1\n",
    "    return score\n",
    "\n",
    "\n",
    "def looper():\n",
    "    attempts = 0\n",
    "    high_score = 0\n",
    "    while True:\n",
    "        sentence = monkey_typewriter()\n",
    "        score = scorer(sentence)\n",
    "        attempts += 1\n",
    "        if score == 27:\n",
    "            print('Success after {} attempts'.format(attempts))\n",
    "            break\n",
    "        if score > high_score:\n",
    "            high_score = score\n",
    "            best_attempt = sentence\n",
    "        if attempts % 1000 == 0:\n",
    "            print('Best attempt : \"{}\", score: {}'.format(\n",
    "                best_attempt, high_score))"
   ]
  },
  {
   "cell_type": "markdown",
   "metadata": {
    "collapsed": false
   },
   "source": [
    "##### Self Check Challenge\n",
    "See if you can improve upon the program in the self check by keeping letters that are correct\n",
    "and only modifying one character in the best string so far. This is a type of algorithm in the class of “hill climbing” algorithms, that is we only keep the result if it is better than the previous\n",
    "one.\n"
   ]
  },
  {
   "cell_type": "code",
   "execution_count": 84,
   "metadata": {
    "collapsed": false
   },
   "outputs": [
    {
     "name": "stdout",
     "output_type": "stream",
     "text": [
      "Success after 598 attempts\n"
     ]
    }
   ],
   "source": [
    "import random\n",
    "\n",
    "alphabet = 'abcdefghijklmnopqrstuvwxyz '\n",
    "target_string = 'methinks it is like a weasel'\n",
    "\n",
    "\n",
    "def monkey_initial():\n",
    "    sentence = ''\n",
    "    for i in range(0, 28):\n",
    "        sentence += alphabet[random.randint(0, 26)]\n",
    "    return sentence\n",
    "\n",
    "\n",
    "def monkey_improve(sentence):\n",
    "    sentence = list(sentence)\n",
    "    for index, letter in enumerate(sentence):\n",
    "        if letter != target_string[index]:\n",
    "            sentence[index] = alphabet[random.randint(0, 26)]\n",
    "            break\n",
    "    sentence = ''.join(sentence)\n",
    "    return sentence\n",
    "\n",
    "\n",
    "def scorer(sentence):\n",
    "    score = 0\n",
    "    for index, letter in enumerate(sentence):\n",
    "        if letter == target_string[index]:\n",
    "            score += 1\n",
    "    return score\n",
    "\n",
    "\n",
    "def looper():\n",
    "\n",
    "    attempts = 0\n",
    "    high_score = 0\n",
    "    sentence = monkey_initial()\n",
    "    best_attempt = \"\"\n",
    "    while True:\n",
    "        score = scorer(sentence)\n",
    "\n",
    "        if score == 28:\n",
    "            print('Success after {} attempts'.format(attempts))\n",
    "            break\n",
    "\n",
    "        if score > high_score:\n",
    "            high_score = score\n",
    "            best_attempt = sentence\n",
    "\n",
    "        attempts += 1\n",
    "\n",
    "        if attempts % 1000 == 0:\n",
    "            print('Best attempt : \"{}\", score: {}'.format(\n",
    "                best_attempt, high_score))\n",
    "\n",
    "        sentence = monkey_improve(sentence)\n",
    "\n",
    "looper()"
   ]
  },
  {
   "cell_type": "markdown",
   "metadata": {},
   "source": [
    "##### Self Check\n",
    "To make sure you understand how operators are implemented in Python classes, and how to\n",
    "properly write methods, write some methods to implement *, /, and −. Also implement comparison\n",
    "operators > and <."
   ]
  },
  {
   "cell_type": "code",
   "execution_count": 91,
   "metadata": {
    "collapsed": false
   },
   "outputs": [
    {
     "name": "stdout",
     "output_type": "stream",
     "text": [
      "7/6\n",
      "False\n",
      "-1/6\n",
      "1/3\n",
      "4/3\n",
      "True\n",
      "False\n"
     ]
    }
   ],
   "source": [
    "# gcd function\n",
    "def gcd(m, n):\n",
    "    while m % n != 0:\n",
    "        old_m = m\n",
    "        old_n = n\n",
    "        m = old_n\n",
    "        n = old_m % old_n\n",
    "    return n\n",
    "\n",
    "# Fraction class\n",
    "class Fraction:\n",
    "    \n",
    "    def __init__(self, top, bottom):\n",
    "        self.num = top\n",
    "        self.den = bottom\n",
    "    \n",
    "    def __str__(self):\n",
    "        return str(self.num) + \"/\" + str(self.den)\n",
    "\n",
    "    def show(self):\n",
    "        print(self.num, \"/\", self.den)\n",
    "    \n",
    "    def __add__(self, other_fraction):\n",
    "        new_num = self.num * other_fraction.den + self.den * other_fraction.num\n",
    "        new_den = self.den * other_fraction.den\n",
    "        common = gcd(new_num, new_den)\n",
    "        return Fraction(new_num // common, new_den // common)\n",
    "    \n",
    "    def __sub__(self, other_fraction):\n",
    "        new_num = self.num * other_fraction.den - self.den * other_fraction.num\n",
    "        new_den = self.den * other_fraction.den\n",
    "        common = gcd(new_num, new_den)\n",
    "        return Fraction(new_num // common, new_den // common)\n",
    "    \n",
    "    def __mul__(self, other_fraction):\n",
    "        new_num = self.num * other_fraction.num\n",
    "        new_den = self.den * other_fraction.den\n",
    "        common = gcd(new_num, new_den)\n",
    "        return Fraction(new_num // common, new_den // common)\n",
    "    \n",
    "    def __truediv__(self, other_fraction):\n",
    "        new_num = self.den * other_fraction.num\n",
    "        new_den = self.num * other_fraction.den\n",
    "        common = gcd(new_num, new_den)\n",
    "        return Fraction(new_num // common, new_den // common)\n",
    "    \n",
    "    def __lt__(self, other_fraction):\n",
    "        first_num = self.num * other_fraction.den\n",
    "        second_num = other_fraction.num * self.den\n",
    "        return first_num < second_num\n",
    "        \n",
    "    def __gt__(self, other_fraction):\n",
    "        first_num = self.num * other_fraction.den\n",
    "        second_num = other_fraction.num * self.den\n",
    "        return first_num > second_num\n",
    "        \n",
    "    def __eq__(self, other_fraction):\n",
    "        first_num = self.num * other_fraction.den\n",
    "        second_num = other_fraction.num * self.den\n",
    "        return first_num == second_num\n",
    "    \n",
    "x = Fraction(1, 2)\n",
    "y = Fraction(2, 3)\n",
    "print(x + y)\n",
    "print(x == y)\n",
    "print(x - y)\n",
    "print(x * y)\n",
    "print(x / y)\n",
    "print(x < y)\n",
    "print(x > y)"
   ]
  },
  {
   "cell_type": "markdown",
   "metadata": {},
   "source": [
    "### 1.7 Programming Exercises\n",
    "\n",
    "1. Implement the simple methods get_num and get_den that will return the numerator\n",
    "and denominator of a fraction.\n",
    "2. In many ways it would be better if all fractions were maintained in lowest terms right\n",
    "from the start. Modify the constructor for the Fraction class so that GCD is used to\n",
    "reduce fractions immediately. Notice that this means the __add__ function no longer\n",
    "needs to reduce. Make the necessary modifications.\n",
    "3. Implement the remaining simple arithmetic operators (__sub__, __mul__, and\n",
    "__truediv__).\n",
    "4. Implement the remaining relational operators (__gt__, __ge__, __lt__, __le__, and\n",
    "__ne__)\n",
    "5. Modify the constructor for the fraction class so that it checks to make sure that the numerator\n",
    "and denominator are both integers. If either is not an integer the constructor\n",
    "should raise an exception.\n",
    "6. In the definition of fractions we assumed that negative fractions have a negative numerator\n",
    "and a positive denominator. Using a negative denominator would cause some of the\n",
    "relational operators to give incorrect results. In general, this is an unnecessary constraint.\n",
    "Modify the constructor to allow the user to pass a negative denominator so that all of the\n",
    "operators continue to work properly.\n",
    "7. Research the __radd__ method. How does it differ from __add__? When is it used?\n",
    "Implement __radd__.\n",
    "8. Repeat the last question but this time consider the __iadd__ method.\n",
    "9. Research the __repr__ method. How does it differ from __str__? When is it used?\n",
    "Implement __repr__."
   ]
  },
  {
   "cell_type": "code",
   "execution_count": 28,
   "metadata": {
    "collapsed": false
   },
   "outputs": [
    {
     "name": "stdout",
     "output_type": "stream",
     "text": [
      "False\n",
      "7/6\n",
      "-1/6\n",
      "1/3\n",
      "4/3\n",
      "True\n",
      "False\n",
      "True\n",
      "False\n",
      "Fraction(1, 2)\n",
      "7/6\n"
     ]
    },
    {
     "ename": "TypeError",
     "evalue": "Both top and bottom should be integers",
     "output_type": "error",
     "traceback": [
      "\u001b[0;31m---------------------------------------------------------------------------\u001b[0m",
      "\u001b[0;31mTypeError\u001b[0m                                 Traceback (most recent call last)",
      "\u001b[0;32m<ipython-input-28-cb9b70d7d7ad>\u001b[0m in \u001b[0;36m<module>\u001b[0;34m()\u001b[0m\n\u001b[1;32m    116\u001b[0m \u001b[0mx\u001b[0m \u001b[0;34m+=\u001b[0m \u001b[0my\u001b[0m\u001b[0;34m\u001b[0m\u001b[0m\n\u001b[1;32m    117\u001b[0m \u001b[0mprint\u001b[0m\u001b[0;34m(\u001b[0m\u001b[0mx\u001b[0m\u001b[0;34m)\u001b[0m\u001b[0;34m\u001b[0m\u001b[0m\n\u001b[0;32m--> 118\u001b[0;31m \u001b[0mprint\u001b[0m\u001b[0;34m(\u001b[0m\u001b[0mFraction\u001b[0m\u001b[0;34m(\u001b[0m\u001b[0;36m1.5\u001b[0m\u001b[0;34m,\u001b[0m \u001b[0;36m2\u001b[0m\u001b[0;34m)\u001b[0m\u001b[0;34m)\u001b[0m\u001b[0;34m\u001b[0m\u001b[0m\n\u001b[0m",
      "\u001b[0;32m<ipython-input-28-cb9b70d7d7ad>\u001b[0m in \u001b[0;36m__init__\u001b[0;34m(self, top, bottom)\u001b[0m\n\u001b[1;32m     13\u001b[0m     \u001b[0;32mdef\u001b[0m \u001b[0m__init__\u001b[0m\u001b[0;34m(\u001b[0m\u001b[0mself\u001b[0m\u001b[0;34m,\u001b[0m \u001b[0mtop\u001b[0m\u001b[0;34m,\u001b[0m \u001b[0mbottom\u001b[0m\u001b[0;34m)\u001b[0m\u001b[0;34m:\u001b[0m\u001b[0;34m\u001b[0m\u001b[0m\n\u001b[1;32m     14\u001b[0m         \u001b[0;32mif\u001b[0m \u001b[0;32mnot\u001b[0m \u001b[0mtype\u001b[0m\u001b[0;34m(\u001b[0m\u001b[0mtop\u001b[0m\u001b[0;34m)\u001b[0m \u001b[0;34m==\u001b[0m \u001b[0mint\u001b[0m \u001b[0;32mand\u001b[0m \u001b[0mtype\u001b[0m\u001b[0;34m(\u001b[0m\u001b[0mbottom\u001b[0m\u001b[0;34m)\u001b[0m \u001b[0;34m==\u001b[0m \u001b[0mint\u001b[0m\u001b[0;34m:\u001b[0m\u001b[0;34m\u001b[0m\u001b[0m\n\u001b[0;32m---> 15\u001b[0;31m             \u001b[0;32mraise\u001b[0m \u001b[0mTypeError\u001b[0m\u001b[0;34m(\u001b[0m\u001b[0;34m'Both top and bottom should be integers'\u001b[0m\u001b[0;34m)\u001b[0m\u001b[0;34m\u001b[0m\u001b[0m\n\u001b[0m\u001b[1;32m     16\u001b[0m \u001b[0;34m\u001b[0m\u001b[0m\n\u001b[1;32m     17\u001b[0m         \u001b[0;32mif\u001b[0m \u001b[0mbottom\u001b[0m \u001b[0;34m<\u001b[0m \u001b[0;36m0\u001b[0m \u001b[0;32mand\u001b[0m \u001b[0mtop\u001b[0m \u001b[0;34m>\u001b[0m \u001b[0;36m0\u001b[0m\u001b[0;34m:\u001b[0m\u001b[0;34m\u001b[0m\u001b[0m\n",
      "\u001b[0;31mTypeError\u001b[0m: Both top and bottom should be integers"
     ]
    }
   ],
   "source": [
    "# gcd function\n",
    "def gcd(m, n):\n",
    "    while m % n != 0:\n",
    "        old_m = m\n",
    "        old_n = n\n",
    "        m = old_n\n",
    "        n = old_m % old_n\n",
    "    return n\n",
    "\n",
    "# Fraction class\n",
    "class Fraction:\n",
    "    \n",
    "    def __init__(self, top, bottom):\n",
    "        if not type(top) == int and type(bottom) == int:\n",
    "            raise TypeError('Both top and bottom should be integers')\n",
    "            \n",
    "        if bottom < 0 and top > 0:\n",
    "            bottom = abs(bottom)\n",
    "            top = top * -1\n",
    "            \n",
    "        if bottom < 0 and top < 0:\n",
    "            bottom = abs(bottom)\n",
    "            top = abs(top\n",
    "                     )\n",
    "        common = gcd(top, bottom)\n",
    "        self.num = top // common\n",
    "        self.den = bottom // common\n",
    "        \n",
    "    def get_num(self):\n",
    "        return self.num\n",
    "    \n",
    "    def get_den(self):\n",
    "        return self.den\n",
    "    \n",
    "    def __str__(self):\n",
    "        return str(self.num) + \"/\" + str(self.den)\n",
    "    \n",
    "    def __repr__(self):\n",
    "        return 'Fraction({}, {})'.format(self.num, self.den)\n",
    "\n",
    "    def show(self):\n",
    "        print(self.num, \"/\", self.den)\n",
    "    \n",
    "    def __add__(self, other_fraction):\n",
    "        new_num = self.num * other_fraction.den + self.den * other_fraction.num\n",
    "        new_den = self.den * other_fraction.den\n",
    "        return Fraction(new_num, new_den)\n",
    "    \n",
    "    __radd__ = __add__\n",
    "    \n",
    "    def __iadd__(self, other_fraction):\n",
    "        new_num = self.num * other_fraction.den + self.den * other_fraction.num\n",
    "        new_den = self.den * other_fraction.den\n",
    "        self = Fraction(new_num, new_den)\n",
    "        return self\n",
    "    \n",
    "    def __sub__(self, other_fraction):\n",
    "        new_num = self.num * other_fraction.den - self.den * other_fraction.num\n",
    "        new_den = self.den * other_fraction.den\n",
    "        return Fraction(new_num, new_den)\n",
    "    \n",
    "    def __mul__(self, other_fraction):\n",
    "        new_num = self.num * other_fraction.num\n",
    "        new_den = self.den * other_fraction.den\n",
    "        return Fraction(new_num, new_den)\n",
    "    \n",
    "    def __truediv__(self, other_fraction):\n",
    "        new_num = self.den * other_fraction.num\n",
    "        new_den = self.num * other_fraction.den\n",
    "        return Fraction(new_num, new_den)\n",
    "    \n",
    "    def __lt__(self, other_fraction):\n",
    "        first_num = self.num * other_fraction.den\n",
    "        second_num = other_fraction.num * self.den\n",
    "        return first_num < second_num\n",
    "    \n",
    "    def __le__(self, other_fraction):\n",
    "        first_num = self.num * other_fraction.den\n",
    "        second_num = other_fraction.num * self.den\n",
    "        return first_num <= second_num\n",
    "        \n",
    "    def __gt__(self, other_fraction):\n",
    "        first_num = self.num * other_fraction.den\n",
    "        second_num = other_fraction.num * self.den\n",
    "        return first_num > second_num\n",
    "    \n",
    "    def __ge__(self, other_fraction):\n",
    "        first_num = self.num * other_fraction.den\n",
    "        second_num = other_fraction.num * self.den\n",
    "        return first_num >= second_num\n",
    "        \n",
    "    def __eq__(self, other_fraction):\n",
    "        first_num = self.num * other_fraction.den\n",
    "        second_num = other_fraction.num * self.den\n",
    "        return first_num == second_num\n",
    "    \n",
    "    def __ne__(self, other_fraction):\n",
    "        first_num = self.num * other_fraction.den\n",
    "        second_num = other_fraction.num * self.den\n",
    "        return first_num != second_num\n",
    "    \n",
    "    \n",
    "    \n",
    "x = Fraction(1, 2)\n",
    "y = Fraction(2, 3)\n",
    "print(x == y)\n",
    "print(x + y)\n",
    "print(x - y)\n",
    "print(x * y)\n",
    "print(x / y)\n",
    "print(x < y)\n",
    "print(x > y)\n",
    "print(x <= y)\n",
    "print(x >= y)\n",
    "print(repr(x))\n",
    "x += y\n",
    "print(x)\n",
    "print(Fraction(1.5, 2))\n"
   ]
  },
  {
   "cell_type": "markdown",
   "metadata": {
    "collapsed": true
   },
   "source": [
    "10. Design a class to represent a playing card. Now design a class to represent a deck of\n",
    "cards. Using these two classes, implement a favorite card game.\n",
    "11. Find a Sudoku puzzle in the local newspaper. Write a program to solve the puzzle."
   ]
  },
  {
   "cell_type": "code",
   "execution_count": 244,
   "metadata": {
    "collapsed": false
   },
   "outputs": [],
   "source": [
    "import random\n",
    "\n",
    "card_values = {2: 2, 3: 3, 4: 4, 5: 5, 6: 6, 7: 7, 8: 8, 9: 9, 10: 10, \n",
    "               'Jack': 11, 'Queen': 12, 'King': 13, 'Ace': 14}\n",
    "card_suits = ['clubs', 'diamonds', 'hearts', 'spades']\n",
    "\n",
    "class PlayingCard:\n",
    "    \n",
    "    def __init__(self, value, suit):\n",
    "        self.value = value\n",
    "        self.suit = suit\n",
    "        \n",
    "    def __str__(self):\n",
    "        return str('{} of {}'.format(self.value, self.suit))\n",
    "    \n",
    "    __repr__ = __str__\n",
    "        \n",
    "class CardDeck:\n",
    "    \n",
    "    def __init__(self, shuffle = False):\n",
    "        \n",
    "        self.cards = [PlayingCard(value, suit) for suit in card_suits for value in card_values]\n",
    "        self.n_cards = len(self.cards)\n",
    "        if shuffle:\n",
    "            self.shuffle()\n",
    "        \n",
    "    def __str__(self):\n",
    "        return str([str(card) for card in self.cards])\n",
    "    \n",
    "    __repr__ = __str__\n",
    "        \n",
    "    def shuffle(self):\n",
    "        random.shuffle(self.cards)\n",
    "        \n",
    "    def deal(self, player, hidden_cards = False, open_cards = False):\n",
    "        card_dealed = self.cards[-1]\n",
    "        self.cards.pop()\n",
    "        if hidden_cards:\n",
    "            player.hidden_cards.append(card_dealed)\n",
    "        elif open_cards:\n",
    "            player.open_cards.append(card_dealed)\n",
    "        else:\n",
    "            player.hand.append(card_dealed)\n",
    "    \n",
    "class Player:\n",
    "    \n",
    "    def __init__(self):\n",
    "        self.open_cards = []\n",
    "        self.hidden_cards = []\n",
    "        self.hand = []\n",
    "        \n",
    "    def __str__(self):\n",
    "        return ('Hidden cards: ' + str(['[x]' for card in self.hidden_cards])+ \n",
    "                '\\n Open cards: '+ str(self.open_cards) + \n",
    "                '\\n Hand: ' + str(self.hand))\n",
    "    \n",
    "    def switch_cards(self, open_cards_to_switch, hand_cards_to_switch):\n",
    "        open_cards_to_switch = [int(s) - 1 for s in open_cards_to_switch.split(',')]\n",
    "        hand_cards_to_switch = [int(s) - 1 for s in hand_cards_to_switch.split(',')]\n",
    "        \n",
    "        for index in hand_cards_to_switch:\n",
    "            self.open_cards.append(self.hand[index])\n",
    "        \n",
    "        for index in open_cards_to_switch:\n",
    "            self.hand.append(self.open_cards[index])\n",
    "        \n",
    "        for index in open_cards_to_switch:\n",
    "            self.open_cards.pop(index)\n",
    "            \n",
    "        for index in hand_cards_to_switch:\n",
    "            self.hand.pop(index)\n",
    "            \n",
    "    def count_cards(self):\n",
    "        return len(self.open_cards) + len(self.hidden_cards) + len(self.hand)\n",
    "    \n",
    "    def play_card(self, card_index, stack, hidden_cards = False, open_cards = False):\n",
    "\n",
    "        if hidden_cards:\n",
    "            card_played = self.hidden_cards[card_index]\n",
    "            self.hidden_cards.pop(card_index)\n",
    "        elif open_cards:\n",
    "            card_played = self.open_cards[card_index]\n",
    "            self.open_cards.pop(card_index)\n",
    "        else:\n",
    "            card_played = self.hand[card_index]\n",
    "            self.hand.pop(card_index)\n",
    "            \n",
    "        stack.append(card_played)\n",
    "\n",
    "    \n",
    "def play_shithead():\n",
    "    \n",
    "    deck = CardDeck(shuffle = True)\n",
    "    opponent = Player()\n",
    "    human = Player()\n",
    "    stack = []\n",
    "    \n",
    "    def print_table():\n",
    "        print('\\nxxxxxxxxxxxxxxxxxxxxxxxxxxxxxxxxxxxxxxx\\n' +\n",
    "            'Opponent hidden cards: ' + str(['[x]' for card in opponent.hidden_cards])+ \n",
    "              '\\n Opponent open cards: '+ str(opponent.open_cards))\n",
    "        print('_______________________________________\\n' + str(stack))\n",
    "\n",
    "        print('_______________________________________\\n' + str(human) +\n",
    "              '\\nxxxxxxxxxxxxxxxxxxxxxxxxxxxxxxxxxxxxxxx')\n",
    "        \n",
    "    \n",
    "    for _ in range(3):\n",
    "        deck.deal(opponent, hidden_cards = True)\n",
    "        deck.deal(human, hidden_cards = True)\n",
    "        \n",
    "    for _ in range(3):\n",
    "        deck.deal(opponent, open_cards = True)\n",
    "        deck.deal(human, open_cards = True)\n",
    "        \n",
    "    for _ in range(3):\n",
    "        deck.deal(opponent)\n",
    "        deck.deal(human)\n",
    "        \n",
    "    print(str(human) + '\\n_______________________________________')\n",
    "    \n",
    "    player_wants_to_switch = input('Switch cards? [y/n]')\n",
    "    \n",
    "    if player_wants_to_switch == 'y':\n",
    "        open_cards_to_switch = input('Which open card(s) to switch? [1, 2, 3]')\n",
    "        hand_cards_to_switch = input('Which hand card(s) to switch? [1, 2, 3]')\n",
    "        \n",
    "        human.switch_cards(open_cards_to_switch, hand_cards_to_switch)\n",
    "        \n",
    "        print(human)\n",
    "        \n",
    "    opponent.play_card(random.randint(0, len(opponent.hand) - 1), stack)\n",
    "    \n",
    "    print_table()\n",
    "    \n",
    "    while human.count_cards() > 0 and opponent.count_cards() > 0:\n",
    "        print('You are up: ')\n",
    "        if len(human.hand) > 0:\n",
    "            if len(human.hand) < 3:\n",
    "                deck.deal(human)\n",
    "            card_to_play = int(input('Hand card to play? [0, 1, 2, 3]')) - 1\n",
    "            if card_to_play >= 0:\n",
    "                human.play_card(card_to_play, stack)\n",
    "            else:\n",
    "                print('You took the stack.')\n",
    "                human.hand.append\n",
    "        \n",
    "        print_table()\n",
    "        print('Opponent is up: ')\n",
    "        \n",
    "        if len(opponent.hand) > 0:\n",
    "            if len(opponent.hand) < 3:\n",
    "                deck.deal(opponent)\n",
    "            opponent.play_card(random.randint(0, len(opponent.hand) - 1), stack)\n",
    "            \n",
    "        print_table()\n",
    "        \n",
    "        \n",
    "        \n",
    "        \n",
    "    \n",
    "        \n",
    "    \n",
    "    "
   ]
  },
  {
   "cell_type": "code",
   "execution_count": 243,
   "metadata": {
    "collapsed": false
   },
   "outputs": [
    {
     "name": "stdout",
     "output_type": "stream",
     "text": [
      "Hidden cards: ['[x]', '[x]', '[x]']\n",
      " Open cards: [Queen of clubs, 10 of hearts, 6 of clubs]\n",
      " Hand: [8 of diamonds, 8 of spades, 7 of spades]\n",
      "_______________________________________\n",
      "Switch cards? [y/n]n\n",
      "\n",
      "xxxxxxxxxxxxxxxxxxxxxxxxxxxxxxxxxxxxxxx\n",
      "Opponent hidden cards: ['[x]', '[x]', '[x]']\n",
      " Opponent open cards: [2 of diamonds, Ace of spades, 9 of spades]\n",
      "_______________________________________\n",
      "[6 of spades]\n",
      "_______________________________________\n",
      "Hidden cards: ['[x]', '[x]', '[x]']\n",
      " Open cards: [Queen of clubs, 10 of hearts, 6 of clubs]\n",
      " Hand: [8 of diamonds, 8 of spades, 7 of spades]\n",
      "xxxxxxxxxxxxxxxxxxxxxxxxxxxxxxxxxxxxxxx\n",
      "Hand card to play? [1, 2, 3]1\n",
      "\n",
      "xxxxxxxxxxxxxxxxxxxxxxxxxxxxxxxxxxxxxxx\n",
      "Opponent hidden cards: ['[x]', '[x]', '[x]']\n",
      " Opponent open cards: [2 of diamonds, Ace of spades, 9 of spades]\n",
      "_______________________________________\n",
      "[6 of spades, 8 of diamonds]\n",
      "_______________________________________\n",
      "Hidden cards: ['[x]', '[x]', '[x]']\n",
      " Open cards: [Queen of clubs, 10 of hearts, 6 of clubs]\n",
      " Hand: [8 of spades, 7 of spades]\n",
      "xxxxxxxxxxxxxxxxxxxxxxxxxxxxxxxxxxxxxxx\n"
     ]
    },
    {
     "ename": "KeyboardInterrupt",
     "evalue": "",
     "output_type": "error",
     "traceback": [
      "\u001b[0;31m---------------------------------------------------------------------------\u001b[0m",
      "\u001b[0;31mKeyboardInterrupt\u001b[0m                         Traceback (most recent call last)",
      "\u001b[0;32m/Users/Vadim/anaconda/lib/python3.5/site-packages/ipykernel/kernelbase.py\u001b[0m in \u001b[0;36m_input_request\u001b[0;34m(self, prompt, ident, parent, password)\u001b[0m\n\u001b[1;32m    701\u001b[0m             \u001b[0;32mtry\u001b[0m\u001b[0;34m:\u001b[0m\u001b[0;34m\u001b[0m\u001b[0m\n\u001b[0;32m--> 702\u001b[0;31m                 \u001b[0mident\u001b[0m\u001b[0;34m,\u001b[0m \u001b[0mreply\u001b[0m \u001b[0;34m=\u001b[0m \u001b[0mself\u001b[0m\u001b[0;34m.\u001b[0m\u001b[0msession\u001b[0m\u001b[0;34m.\u001b[0m\u001b[0mrecv\u001b[0m\u001b[0;34m(\u001b[0m\u001b[0mself\u001b[0m\u001b[0;34m.\u001b[0m\u001b[0mstdin_socket\u001b[0m\u001b[0;34m,\u001b[0m \u001b[0;36m0\u001b[0m\u001b[0;34m)\u001b[0m\u001b[0;34m\u001b[0m\u001b[0m\n\u001b[0m\u001b[1;32m    703\u001b[0m             \u001b[0;32mexcept\u001b[0m \u001b[0mException\u001b[0m\u001b[0;34m:\u001b[0m\u001b[0;34m\u001b[0m\u001b[0m\n",
      "\u001b[0;32m/Users/Vadim/anaconda/lib/python3.5/site-packages/jupyter_client/session.py\u001b[0m in \u001b[0;36mrecv\u001b[0;34m(self, socket, mode, content, copy)\u001b[0m\n\u001b[1;32m    730\u001b[0m         \u001b[0;32mtry\u001b[0m\u001b[0;34m:\u001b[0m\u001b[0;34m\u001b[0m\u001b[0m\n\u001b[0;32m--> 731\u001b[0;31m             \u001b[0mmsg_list\u001b[0m \u001b[0;34m=\u001b[0m \u001b[0msocket\u001b[0m\u001b[0;34m.\u001b[0m\u001b[0mrecv_multipart\u001b[0m\u001b[0;34m(\u001b[0m\u001b[0mmode\u001b[0m\u001b[0;34m,\u001b[0m \u001b[0mcopy\u001b[0m\u001b[0;34m=\u001b[0m\u001b[0mcopy\u001b[0m\u001b[0;34m)\u001b[0m\u001b[0;34m\u001b[0m\u001b[0m\n\u001b[0m\u001b[1;32m    732\u001b[0m         \u001b[0;32mexcept\u001b[0m \u001b[0mzmq\u001b[0m\u001b[0;34m.\u001b[0m\u001b[0mZMQError\u001b[0m \u001b[0;32mas\u001b[0m \u001b[0me\u001b[0m\u001b[0;34m:\u001b[0m\u001b[0;34m\u001b[0m\u001b[0m\n",
      "\u001b[0;32m/Users/Vadim/anaconda/lib/python3.5/site-packages/zmq/sugar/socket.py\u001b[0m in \u001b[0;36mrecv_multipart\u001b[0;34m(self, flags, copy, track)\u001b[0m\n\u001b[1;32m    357\u001b[0m         \"\"\"\n\u001b[0;32m--> 358\u001b[0;31m         \u001b[0mparts\u001b[0m \u001b[0;34m=\u001b[0m \u001b[0;34m[\u001b[0m\u001b[0mself\u001b[0m\u001b[0;34m.\u001b[0m\u001b[0mrecv\u001b[0m\u001b[0;34m(\u001b[0m\u001b[0mflags\u001b[0m\u001b[0;34m,\u001b[0m \u001b[0mcopy\u001b[0m\u001b[0;34m=\u001b[0m\u001b[0mcopy\u001b[0m\u001b[0;34m,\u001b[0m \u001b[0mtrack\u001b[0m\u001b[0;34m=\u001b[0m\u001b[0mtrack\u001b[0m\u001b[0;34m)\u001b[0m\u001b[0;34m]\u001b[0m\u001b[0;34m\u001b[0m\u001b[0m\n\u001b[0m\u001b[1;32m    359\u001b[0m         \u001b[0;31m# have first part already, only loop while more to receive\u001b[0m\u001b[0;34m\u001b[0m\u001b[0;34m\u001b[0m\u001b[0m\n",
      "\u001b[0;32mzmq/backend/cython/socket.pyx\u001b[0m in \u001b[0;36mzmq.backend.cython.socket.Socket.recv (zmq/backend/cython/socket.c:6971)\u001b[0;34m()\u001b[0m\n",
      "\u001b[0;32mzmq/backend/cython/socket.pyx\u001b[0m in \u001b[0;36mzmq.backend.cython.socket.Socket.recv (zmq/backend/cython/socket.c:6763)\u001b[0;34m()\u001b[0m\n",
      "\u001b[0;32mzmq/backend/cython/socket.pyx\u001b[0m in \u001b[0;36mzmq.backend.cython.socket._recv_copy (zmq/backend/cython/socket.c:1931)\u001b[0;34m()\u001b[0m\n",
      "\u001b[0;32m/Users/Vadim/anaconda/lib/python3.5/site-packages/zmq/backend/cython/checkrc.pxd\u001b[0m in \u001b[0;36mzmq.backend.cython.checkrc._check_rc (zmq/backend/cython/socket.c:7222)\u001b[0;34m()\u001b[0m\n",
      "\u001b[0;31mKeyboardInterrupt\u001b[0m: ",
      "\nDuring handling of the above exception, another exception occurred:\n",
      "\u001b[0;31mKeyboardInterrupt\u001b[0m                         Traceback (most recent call last)",
      "\u001b[0;32m<ipython-input-243-7babb56fb703>\u001b[0m in \u001b[0;36m<module>\u001b[0;34m()\u001b[0m\n\u001b[0;32m----> 1\u001b[0;31m \u001b[0mplay_shithead\u001b[0m\u001b[0;34m(\u001b[0m\u001b[0;34m)\u001b[0m\u001b[0;34m\u001b[0m\u001b[0m\n\u001b[0m",
      "\u001b[0;32m<ipython-input-242-315cfd027cec>\u001b[0m in \u001b[0;36mplay_shithead\u001b[0;34m()\u001b[0m\n\u001b[1;32m    136\u001b[0m     \u001b[0;32mwhile\u001b[0m \u001b[0mhuman\u001b[0m\u001b[0;34m.\u001b[0m\u001b[0mcount_cards\u001b[0m\u001b[0;34m(\u001b[0m\u001b[0;34m)\u001b[0m \u001b[0;34m>\u001b[0m \u001b[0;36m0\u001b[0m \u001b[0;32mand\u001b[0m \u001b[0mopponent\u001b[0m\u001b[0;34m.\u001b[0m\u001b[0mcount_cards\u001b[0m\u001b[0;34m(\u001b[0m\u001b[0;34m)\u001b[0m \u001b[0;34m>\u001b[0m \u001b[0;36m0\u001b[0m\u001b[0;34m:\u001b[0m\u001b[0;34m\u001b[0m\u001b[0m\n\u001b[1;32m    137\u001b[0m         \u001b[0;32mif\u001b[0m \u001b[0mlen\u001b[0m\u001b[0;34m(\u001b[0m\u001b[0mhuman\u001b[0m\u001b[0;34m.\u001b[0m\u001b[0mhand\u001b[0m\u001b[0;34m)\u001b[0m \u001b[0;34m>\u001b[0m \u001b[0;36m0\u001b[0m\u001b[0;34m:\u001b[0m\u001b[0;34m\u001b[0m\u001b[0m\n\u001b[0;32m--> 138\u001b[0;31m             \u001b[0mcard_to_play\u001b[0m \u001b[0;34m=\u001b[0m \u001b[0mint\u001b[0m\u001b[0;34m(\u001b[0m\u001b[0minput\u001b[0m\u001b[0;34m(\u001b[0m\u001b[0;34m'Hand card to play? [1, 2, 3]'\u001b[0m\u001b[0;34m)\u001b[0m\u001b[0;34m)\u001b[0m \u001b[0;34m-\u001b[0m \u001b[0;36m1\u001b[0m\u001b[0;34m\u001b[0m\u001b[0m\n\u001b[0m\u001b[1;32m    139\u001b[0m             \u001b[0mhuman\u001b[0m\u001b[0;34m.\u001b[0m\u001b[0mplay_card\u001b[0m\u001b[0;34m(\u001b[0m\u001b[0mcard_to_play\u001b[0m\u001b[0;34m,\u001b[0m \u001b[0mstack\u001b[0m\u001b[0;34m)\u001b[0m\u001b[0;34m\u001b[0m\u001b[0m\n\u001b[1;32m    140\u001b[0m \u001b[0;34m\u001b[0m\u001b[0m\n",
      "\u001b[0;32m/Users/Vadim/anaconda/lib/python3.5/site-packages/ipykernel/kernelbase.py\u001b[0m in \u001b[0;36mraw_input\u001b[0;34m(self, prompt)\u001b[0m\n\u001b[1;32m    675\u001b[0m             \u001b[0mself\u001b[0m\u001b[0;34m.\u001b[0m\u001b[0m_parent_ident\u001b[0m\u001b[0;34m,\u001b[0m\u001b[0;34m\u001b[0m\u001b[0m\n\u001b[1;32m    676\u001b[0m             \u001b[0mself\u001b[0m\u001b[0;34m.\u001b[0m\u001b[0m_parent_header\u001b[0m\u001b[0;34m,\u001b[0m\u001b[0;34m\u001b[0m\u001b[0m\n\u001b[0;32m--> 677\u001b[0;31m             \u001b[0mpassword\u001b[0m\u001b[0;34m=\u001b[0m\u001b[0;32mFalse\u001b[0m\u001b[0;34m,\u001b[0m\u001b[0;34m\u001b[0m\u001b[0m\n\u001b[0m\u001b[1;32m    678\u001b[0m         )\n\u001b[1;32m    679\u001b[0m \u001b[0;34m\u001b[0m\u001b[0m\n",
      "\u001b[0;32m/Users/Vadim/anaconda/lib/python3.5/site-packages/ipykernel/kernelbase.py\u001b[0m in \u001b[0;36m_input_request\u001b[0;34m(self, prompt, ident, parent, password)\u001b[0m\n\u001b[1;32m    705\u001b[0m             \u001b[0;32mexcept\u001b[0m \u001b[0mKeyboardInterrupt\u001b[0m\u001b[0;34m:\u001b[0m\u001b[0;34m\u001b[0m\u001b[0m\n\u001b[1;32m    706\u001b[0m                 \u001b[0;31m# re-raise KeyboardInterrupt, to truncate traceback\u001b[0m\u001b[0;34m\u001b[0m\u001b[0;34m\u001b[0m\u001b[0m\n\u001b[0;32m--> 707\u001b[0;31m                 \u001b[0;32mraise\u001b[0m \u001b[0mKeyboardInterrupt\u001b[0m\u001b[0;34m\u001b[0m\u001b[0m\n\u001b[0m\u001b[1;32m    708\u001b[0m             \u001b[0;32melse\u001b[0m\u001b[0;34m:\u001b[0m\u001b[0;34m\u001b[0m\u001b[0m\n\u001b[1;32m    709\u001b[0m                 \u001b[0;32mbreak\u001b[0m\u001b[0;34m\u001b[0m\u001b[0m\n",
      "\u001b[0;31mKeyboardInterrupt\u001b[0m: "
     ]
    }
   ],
   "source": [
    "play_shithead()"
   ]
  },
  {
   "cell_type": "code",
   "execution_count": 168,
   "metadata": {
    "collapsed": false,
    "scrolled": false
   },
   "outputs": [
    {
     "data": {
      "text/plain": [
       "['2 of clubs', '3 of clubs', '4 of clubs', '5 of clubs', '6 of clubs', '7 of clubs', '8 of clubs', '9 of clubs', '10 of clubs', 'Ace of clubs', 'Queen of clubs', 'Jack of clubs', 'King of clubs', '2 of diamonds', '3 of diamonds', '4 of diamonds', '5 of diamonds', '6 of diamonds', '7 of diamonds', '8 of diamonds', '9 of diamonds', '10 of diamonds', 'Ace of diamonds', 'Queen of diamonds', 'Jack of diamonds', 'King of diamonds', '2 of hearts', '3 of hearts', '4 of hearts', '5 of hearts', '6 of hearts', '7 of hearts', '8 of hearts', '9 of hearts', '10 of hearts', 'Ace of hearts', 'Queen of hearts', 'Jack of hearts', 'King of hearts', '2 of spades', '3 of spades', '4 of spades', '5 of spades', '6 of spades', '7 of spades', '8 of spades', '9 of spades', '10 of spades', 'Ace of spades', 'Queen of spades', 'Jack of spades', 'King of spades']"
      ]
     },
     "execution_count": 168,
     "metadata": {},
     "output_type": "execute_result"
    }
   ],
   "source": [
    "deck"
   ]
  },
  {
   "cell_type": "code",
   "execution_count": 169,
   "metadata": {
    "collapsed": false
   },
   "outputs": [],
   "source": [
    "deck.shuffle()"
   ]
  },
  {
   "cell_type": "code",
   "execution_count": 170,
   "metadata": {
    "collapsed": false
   },
   "outputs": [
    {
     "data": {
      "text/plain": [
       "['7 of hearts', 'Ace of diamonds', 'Queen of diamonds', '4 of diamonds', 'Queen of clubs', '5 of hearts', '10 of spades', 'Jack of spades', 'Queen of spades', '9 of diamonds', '2 of clubs', 'King of clubs', '8 of clubs', 'Queen of hearts', '4 of clubs', '5 of clubs', '8 of hearts', 'King of spades', '2 of spades', '4 of hearts', 'King of diamonds', '5 of spades', '5 of diamonds', '6 of spades', '10 of clubs', '10 of hearts', 'King of hearts', '6 of clubs', '2 of hearts', '9 of clubs', '7 of spades', '6 of hearts', '7 of clubs', 'Ace of spades', '7 of diamonds', 'Jack of diamonds', '3 of spades', '8 of diamonds', '3 of diamonds', '9 of hearts', '3 of clubs', '2 of diamonds', '9 of spades', '3 of hearts', '6 of diamonds', 'Jack of clubs', 'Ace of hearts', 'Jack of hearts', 'Ace of clubs', '8 of spades', '10 of diamonds', '4 of spades']"
      ]
     },
     "execution_count": 170,
     "metadata": {},
     "output_type": "execute_result"
    }
   ],
   "source": [
    "deck"
   ]
  },
  {
   "cell_type": "code",
   "execution_count": 171,
   "metadata": {
    "collapsed": false
   },
   "outputs": [],
   "source": [
    "steve = Player()"
   ]
  },
  {
   "cell_type": "code",
   "execution_count": 172,
   "metadata": {
    "collapsed": false
   },
   "outputs": [],
   "source": [
    "deck.deal(steve)"
   ]
  },
  {
   "cell_type": "code",
   "execution_count": 207,
   "metadata": {
    "collapsed": false
   },
   "outputs": [
    {
     "data": {
      "text/plain": [
       "3"
      ]
     },
     "execution_count": 207,
     "metadata": {},
     "output_type": "execute_result"
    }
   ],
   "source": [
    "random.randint(0, 3)"
   ]
  },
  {
   "cell_type": "code",
   "execution_count": 174,
   "metadata": {
    "collapsed": true
   },
   "outputs": [],
   "source": [
    "deck.deal(steve)"
   ]
  },
  {
   "cell_type": "code",
   "execution_count": 175,
   "metadata": {
    "collapsed": false
   },
   "outputs": [
    {
     "name": "stdout",
     "output_type": "stream",
     "text": [
      "\n",
      "[4 of spades, 10 of diamonds]\n"
     ]
    }
   ],
   "source": [
    "print(steve)"
   ]
  },
  {
   "cell_type": "code",
   "execution_count": null,
   "metadata": {
    "collapsed": true
   },
   "outputs": [],
   "source": []
  }
 ],
 "metadata": {
  "kernelspec": {
   "display_name": "Python 3",
   "language": "python",
   "name": "python3"
  },
  "language_info": {
   "codemirror_mode": {
    "name": "ipython",
    "version": 3
   },
   "file_extension": ".py",
   "mimetype": "text/x-python",
   "name": "python",
   "nbconvert_exporter": "python",
   "pygments_lexer": "ipython3",
   "version": "3.5.1"
  }
 },
 "nbformat": 4,
 "nbformat_minor": 0
}
