{
 "cells": [
  {
   "cell_type": "markdown",
   "metadata": {},
   "source": [
    "### 1.4.3 Control Structures\n",
    "\n",
    "##### Self check\n",
    "\n",
    "Modify the given code so that the final list only contains a single copy of each letter."
   ]
  },
  {
   "cell_type": "code",
   "execution_count": 40,
   "metadata": {
    "collapsed": false
   },
   "outputs": [
    {
     "name": "stdout",
     "output_type": "stream",
     "text": [
      "['c', 'a', 't', 'd', 'o', 'g', 'r', 'b', 'i']\n"
     ]
    }
   ],
   "source": [
    "word_list = ['cat','dog','rabbit']\n",
    "letter_list = [ ]\n",
    "for word in word_list:\n",
    "    for letter in word:\n",
    "        if letter not in letter_list:\n",
    "            letter_list.append(letter)\n",
    "print(letter_list)"
   ]
  },
  {
   "cell_type": "markdown",
   "metadata": {},
   "source": [
    "Redo the given code using list comprehensions. For an extra challenge, see if you can\n",
    "figure out how to remove the duplicates."
   ]
  },
  {
   "cell_type": "code",
   "execution_count": 41,
   "metadata": {
    "collapsed": false
   },
   "outputs": [
    {
     "name": "stdout",
     "output_type": "stream",
     "text": [
      "['i', 'b', 'a', 'd', 'o', 't', 'c', 'g', 'r']\n"
     ]
    }
   ],
   "source": [
    "word_list = ['cat','dog','rabbit']\n",
    "letter_list = list({letter for word in word_list for letter in word})\n",
    "print(letter_list)"
   ]
  },
  {
   "cell_type": "markdown",
   "metadata": {},
   "source": [
    "### 1.4.5 Defining Functions\n",
    "\n",
    "##### Self check\n",
    "\n",
    "Here is a self check that really covers everything so far. You may have heard of the infinite\n",
    "monkey theorem? The theorem states that a monkey hitting keys at random on a typewriter\n",
    "keyboard for an infinite amount of time will almost surely type a given text, such as the complete\n",
    "works of William Shakespeare. Well, suppose we replace a monkey with a Python function.\n",
    "How long do you think it would take for a Python function to generate just one sentence\n",
    "of Shakespeare? The sentence we’ll shoot for is: “methinks it is like a weasel”\n",
    "\n",
    "\n",
    "You are not going to want to run this one in the browser, so fire up your favorite Python IDE. The\n",
    "way we will simulate this is to write a function that generates a string that is 27 characters long\n",
    "by choosing random letters from the 26 letters in the alphabet plus the space. We will write\n",
    "another function that will score each generated string by comparing the randomly generated\n",
    "string to the goal.\n",
    "\n",
    "\n",
    "A third function will repeatedly call generate and score, then if 100% of the letters are correct\n",
    "we are done. If the letters are not correct then we will generate a whole new string. To make\n",
    "it easier to follow your program’s progress this third function should print out the best string\n",
    "generated so far and its score every 1000 tries."
   ]
  },
  {
   "cell_type": "code",
   "execution_count": 76,
   "metadata": {
    "collapsed": false
   },
   "outputs": [],
   "source": [
    "import random\n",
    "\n",
    "target_string = 'methinks it is like a weasel'\n",
    "\n",
    "def monkey_typewriter():\n",
    "    alphabet = 'abcdefghijklmnopqrstuvwxyz '\n",
    "    sentence = ''\n",
    "    for i in range(0, 26):\n",
    "        sentence += alphabet[random.randint(0, 26)]\n",
    "    return sentence\n",
    "\n",
    "def scorer(sentence):\n",
    "    target_string = 'methinks it is like a weasel'\n",
    "    score = 0\n",
    "    for index, letter in enumerate(sentence):\n",
    "        if letter == target_string[index]:\n",
    "            score += 1\n",
    "    return score\n",
    "            \n",
    "def looper():\n",
    "    attempts = 0\n",
    "    high_score = 0\n",
    "    while True:\n",
    "        sentence = monkey_typewriter()\n",
    "        score = scorer(sentence)\n",
    "        attempts += 1\n",
    "        if score == 27:\n",
    "            print('Success after {} attempts'.format(attempts))\n",
    "            break\n",
    "        if score > high_score:\n",
    "            high_score = score\n",
    "            best_attempt = sentence\n",
    "        if attempts % 100000 == 0:\n",
    "            print('Best attempt : \"{}\", score: {}'.format(best_attempt, high_score))"
   ]
  },
  {
   "cell_type": "code",
   "execution_count": 77,
   "metadata": {
    "collapsed": false
   },
   "outputs": [
    {
     "name": "stdout",
     "output_type": "stream",
     "text": [
      "Best attempt : \"mepnknjk iwjiclweqjxyzeygs\", score: 7\n",
      "Best attempt : \"mepnknjk iwjiclweqjxyzeygs\", score: 7\n",
      "Best attempt : \"bnlanzqnxwtqbs lpkevqiwpms\", score: 8\n",
      "Best attempt : \"bnlanzqnxwtqbs lpkevqiwpms\", score: 8\n",
      "Best attempt : \"bnlanzqnxwtqbs lpkevqiwpms\", score: 8\n",
      "Best attempt : \"bnlanzqnxwtqbs lpkevqiwpms\", score: 8\n",
      "Best attempt : \"bnlanzqnxwtqbs lpkevqiwpms\", score: 8\n",
      "Best attempt : \"bnlanzqnxwtqbs lpkevqiwpms\", score: 8\n",
      "Best attempt : \"bnlanzqnxwtqbs lpkevqiwpms\", score: 8\n",
      "Best attempt : \"bnlanzqnxwtqbs lpkevqiwpms\", score: 8\n",
      "Best attempt : \"cmtgnsks faczq llolzdreeas\", score: 9\n",
      "Best attempt : \"cmtgnsks faczq llolzdreeas\", score: 9\n",
      "Best attempt : \"cmtgnsks faczq llolzdreeas\", score: 9\n",
      "Best attempt : \"cmtgnsks faczq llolzdreeas\", score: 9\n",
      "Best attempt : \"cmtgnsks faczq llolzdreeas\", score: 9\n",
      "Best attempt : \"cmtgnsks faczq llolzdreeas\", score: 9\n",
      "Best attempt : \"cmtgnsks faczq llolzdreeas\", score: 9\n",
      "Best attempt : \"cmtgnsks faczq llolzdreeas\", score: 9\n",
      "Best attempt : \"cmtgnsks faczq llolzdreeas\", score: 9\n",
      "Best attempt : \"cmtgnsks faczq llolzdreeas\", score: 9\n",
      "Best attempt : \"cmtgnsks faczq llolzdreeas\", score: 9\n",
      "Best attempt : \"cmtgnsks faczq llolzdreeas\", score: 9\n",
      "Best attempt : \"cmtgnsks faczq llolzdreeas\", score: 9\n"
     ]
    },
    {
     "ename": "KeyboardInterrupt",
     "evalue": "",
     "output_type": "error",
     "traceback": [
      "\u001b[0;31m---------------------------------------------------------------------------\u001b[0m",
      "\u001b[0;31mKeyboardInterrupt\u001b[0m                         Traceback (most recent call last)",
      "\u001b[0;32m<ipython-input-77-354b0d6ba95d>\u001b[0m in \u001b[0;36m<module>\u001b[0;34m()\u001b[0m\n\u001b[0;32m----> 1\u001b[0;31m \u001b[0mlooper\u001b[0m\u001b[0;34m(\u001b[0m\u001b[0;34m)\u001b[0m\u001b[0;34m\u001b[0m\u001b[0m\n\u001b[0m",
      "\u001b[0;32m<ipython-input-76-9ee3348e1f8b>\u001b[0m in \u001b[0;36mlooper\u001b[0;34m()\u001b[0m\n\u001b[1;32m     22\u001b[0m     \u001b[0mhigh_score\u001b[0m \u001b[0;34m=\u001b[0m \u001b[0;36m0\u001b[0m\u001b[0;34m\u001b[0m\u001b[0m\n\u001b[1;32m     23\u001b[0m     \u001b[0;32mwhile\u001b[0m \u001b[0;32mTrue\u001b[0m\u001b[0;34m:\u001b[0m\u001b[0;34m\u001b[0m\u001b[0m\n\u001b[0;32m---> 24\u001b[0;31m         \u001b[0msentence\u001b[0m \u001b[0;34m=\u001b[0m \u001b[0mmonkey_typewriter\u001b[0m\u001b[0;34m(\u001b[0m\u001b[0;34m)\u001b[0m\u001b[0;34m\u001b[0m\u001b[0m\n\u001b[0m\u001b[1;32m     25\u001b[0m         \u001b[0mscore\u001b[0m \u001b[0;34m=\u001b[0m \u001b[0mscorer\u001b[0m\u001b[0;34m(\u001b[0m\u001b[0msentence\u001b[0m\u001b[0;34m)\u001b[0m\u001b[0;34m\u001b[0m\u001b[0m\n\u001b[1;32m     26\u001b[0m         \u001b[0mattempts\u001b[0m \u001b[0;34m+=\u001b[0m \u001b[0;36m1\u001b[0m\u001b[0;34m\u001b[0m\u001b[0m\n",
      "\u001b[0;32m<ipython-input-76-9ee3348e1f8b>\u001b[0m in \u001b[0;36mmonkey_typewriter\u001b[0;34m()\u001b[0m\n\u001b[1;32m      7\u001b[0m     \u001b[0msentence\u001b[0m \u001b[0;34m=\u001b[0m \u001b[0;34m''\u001b[0m\u001b[0;34m\u001b[0m\u001b[0m\n\u001b[1;32m      8\u001b[0m     \u001b[0;32mfor\u001b[0m \u001b[0mi\u001b[0m \u001b[0;32min\u001b[0m \u001b[0mrange\u001b[0m\u001b[0;34m(\u001b[0m\u001b[0;36m0\u001b[0m\u001b[0;34m,\u001b[0m \u001b[0;36m26\u001b[0m\u001b[0;34m)\u001b[0m\u001b[0;34m:\u001b[0m\u001b[0;34m\u001b[0m\u001b[0m\n\u001b[0;32m----> 9\u001b[0;31m         \u001b[0msentence\u001b[0m \u001b[0;34m+=\u001b[0m \u001b[0malphabet\u001b[0m\u001b[0;34m[\u001b[0m\u001b[0mrandom\u001b[0m\u001b[0;34m.\u001b[0m\u001b[0mrandint\u001b[0m\u001b[0;34m(\u001b[0m\u001b[0;36m0\u001b[0m\u001b[0;34m,\u001b[0m \u001b[0;36m26\u001b[0m\u001b[0;34m)\u001b[0m\u001b[0;34m]\u001b[0m\u001b[0;34m\u001b[0m\u001b[0m\n\u001b[0m\u001b[1;32m     10\u001b[0m     \u001b[0;32mreturn\u001b[0m \u001b[0msentence\u001b[0m\u001b[0;34m\u001b[0m\u001b[0m\n\u001b[1;32m     11\u001b[0m \u001b[0;34m\u001b[0m\u001b[0m\n",
      "\u001b[0;31mKeyboardInterrupt\u001b[0m: "
     ]
    }
   ],
   "source": [
    "looper()"
   ]
  },
  {
   "cell_type": "code",
   "execution_count": null,
   "metadata": {
    "collapsed": true
   },
   "outputs": [],
   "source": []
  },
  {
   "cell_type": "code",
   "execution_count": null,
   "metadata": {
    "collapsed": true
   },
   "outputs": [],
   "source": []
  }
 ],
 "metadata": {
  "kernelspec": {
   "display_name": "Python 3",
   "language": "python",
   "name": "python3"
  },
  "language_info": {
   "codemirror_mode": {
    "name": "ipython",
    "version": 3
   },
   "file_extension": ".py",
   "mimetype": "text/x-python",
   "name": "python",
   "nbconvert_exporter": "python",
   "pygments_lexer": "ipython3",
   "version": "3.5.1"
  }
 },
 "nbformat": 4,
 "nbformat_minor": 0
}
